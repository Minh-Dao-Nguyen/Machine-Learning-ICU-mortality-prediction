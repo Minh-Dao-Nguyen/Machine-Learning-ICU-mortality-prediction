{
  "cells": [
    {
      "attachments": {},
      "cell_type": "markdown",
      "metadata": {
        "id": "9lqfiZpGdBoM"
      },
      "source": [
        "#Preprocessing"
      ]
    },
    {
      "cell_type": "code",
      "execution_count": 76,
      "metadata": {
        "id": "zM3_BJV_dEy9"
      },
      "outputs": [],
      "source": [
        "import pandas as pd\n",
        "import numpy as np\n",
        "import os\n",
        "from sklearn.preprocessing import StandardScaler\n",
        "from sklearn.impute import KNNImputer\n"
      ]
    },
    {
      "cell_type": "code",
      "execution_count": 77,
      "metadata": {
        "id": "hoWsnk9jdHOc"
      },
      "outputs": [],
      "source": [
        "#equation for cleaning\n",
        "def avg_val(x):\n",
        "  if len(x) != 0:\n",
        "    try:\n",
        "      float_list = [float(i) for i in x]\n",
        "      avg = sum(float_list) / len(x)\n",
        "      return avg\n",
        "    except:\n",
        "      return x[len(x)-1]\n",
        "  #for empty list\n",
        "  return 0\n",
        "\n",
        "def change_age(x):\n",
        "  if x == '> 89':\n",
        "    return '90'\n",
        "  return x\n",
        "\n",
        "def reduce_list(x):\n",
        "  if len(x) == 0:\n",
        "    return 0\n",
        "  return x[0]\n",
        "\n",
        "def fill_na_age(x):\n",
        "  if len(x) == 0:\n",
        "    return '30'\n",
        "  return x\n",
        "\n",
        "def fill_na_GCS(x):\n",
        "  if len(x) == 0:\n",
        "    return 15.0\n",
        "  return x\n",
        "\n",
        "def fill_na_gender(x):\n",
        "  if len(x) == 0:\n",
        "    return ['Male']  \n",
        "  return x\n",
        "\n",
        "def fill_na_ethnicity(x):\n",
        "  if len(x) == 0:\n",
        "    return ['Caucasian']\n",
        "  return x\n",
        "\n",
        "def fill_na_Capillary(x):\n",
        "  if len(x) == 0:\n",
        "    return ['normal']\n",
        "  return x\n",
        "\n",
        "def fix_GCS(x):\n",
        "  if x == 'Unable to score due to medication':\n",
        "    return 15.0\n",
        "  return x\n",
        "\n",
        "def reduce_list2(x):\n",
        "  if len(x) == 0:\n",
        "    return np.nan\n",
        "  return x[0]\n",
        "\n",
        "#medical data \n",
        "def BMI_cal(mass, height):\n",
        "    #change heigh from cm to m \n",
        "    height = height / 100\n",
        "    BMI = mass / (height * height)\n",
        "    return BMI\n",
        "##############################################################"
      ]
    },
    {
      "cell_type": "code",
      "execution_count": 78,
      "metadata": {
        "id": "CmxJc_5xdI3y"
      },
      "outputs": [],
      "source": [
        "def load_data(x_path):\n",
        "    # Your code here\n",
        "    df = pd.read_csv(x_path, index_col=0)\n",
        "    x = df\n",
        "    return x\n",
        "\n",
        "def preprocess_x(df):\n",
        "  ##for some columns specifically, remove row if data is empty\n",
        "  #nursingchartvalue\n",
        "  for index, val in df['nursingchartvalue'].iteritems():\n",
        "    if pd.isna(val) and not(pd.isna(df.loc[index]['nursingchartcelltypevalname'])):\n",
        "      #print(df.loc[index]['patientunitstayid'])\n",
        "      df.drop(index, inplace = True)\n",
        "  #labresult\n",
        "  for index, val in df['labresult'].iteritems():\n",
        "    if not(pd.isna(df.loc[index]['labname'])) and pd.isna(val):\n",
        "      #print(df.loc[index]['patientunitstayid'])\n",
        "      df.drop(index, inplace = True)\n",
        "\n",
        "  # row is id number, columns are measuremnet, each cell holds a list\n",
        "  df = df.groupby('patientunitstayid').agg(lambda x: list(x))\n",
        "\n",
        "  #clean out nan value\n",
        "  for index, row in df.iterrows():\n",
        "      for column in df.columns:\n",
        "          row[column] = [x for x in row[column] if str(x) != 'nan']\n",
        "  \n",
        "  #make columns for unique measurement ( labname, nurshing chartcelltypevalname, cellable)\n",
        "  #labname\n",
        "  lab_lst = []\n",
        "  for val in df['labname']:\n",
        "    for x in val:\n",
        "      lab_lst.append(x)\n",
        "  labname_vals = np.unique(lab_lst)\n",
        "  #nursingchartcelltypevalname\n",
        "  nurs_lst = []\n",
        "  for val in df['nursingchartcelltypevalname']:\n",
        "    for x in val:\n",
        "      nurs_lst.append(x)\n",
        "  nursing_vals = np.unique(nurs_lst)\n",
        "  #celllabel\n",
        "  cell_lst = []\n",
        "  for val in df['celllabel']:\n",
        "    for x in val:\n",
        "      cell_lst.append(x)\n",
        "  celllabel_vals = np.unique(cell_lst)\n",
        "\n",
        "  #make columns for unique measurement\n",
        "  #labname\n",
        "  for i in labname_vals:\n",
        "    df[i] = ''\n",
        "    df[i] = df[i].apply(list)\n",
        "  #nursingchartcelltypevalname\n",
        "  for i in nursing_vals:\n",
        "    df[i] = ''\n",
        "    df[i] = df[i].apply(list)\n",
        "  #celllabel\n",
        "  for i in celllabel_vals:\n",
        "    df[i] = ''\n",
        "    df[i] = df[i].apply(list)\n",
        "\n",
        "  #clean data\n",
        "  df['gender'] = df['gender'].apply(fill_na_gender)\n",
        "  df['age'] = df['age'].apply(fill_na_age)\n",
        "  df['ethnicity'] = df['ethnicity'].apply(fill_na_ethnicity)\n",
        "\n",
        "  # do flatten lists on admissionweight, admissionheight, age, gender, ethnicity, unitvisitnumber,patientunitstayid_dupe\n",
        "  df[\"admissionheight\"] = df[\"admissionheight\"].apply(reduce_list)\n",
        "  df[\"admissionweight\"] = df[\"admissionweight\"].apply(reduce_list)\n",
        "\n",
        "  df[\"age\"] = df[\"age\"].apply(reduce_list)\n",
        "  df[\"gender\"] = df[\"gender\"].apply(reduce_list)\n",
        "  df[\"ethnicity\"] = df[\"ethnicity\"].apply(reduce_list)\n",
        "  df[\"unitvisitnumber\"] = df[\"unitvisitnumber\"].apply(reduce_list)\n",
        "\n",
        "  ########Group Data to new Columns #########\n",
        "  for index, row in df.iterrows():\n",
        "      #labname\n",
        "      if(len(row['labname']) != 0 ):\n",
        "        #if(len(row['labname']) != len(row['labresult'])):\n",
        "          #for i in range(len(row['labname'])):\n",
        "          # row[row['labname'][i]].append(row['labresult'][0])\n",
        "        #add data\n",
        "        #else:\n",
        "        for i in range(len(row['labname'])):\n",
        "          row[row['labname'][i]].append(row['labresult'][i])\n",
        "      #nursingchartcelltypevalname\n",
        "      if(len(row['nursingchartcelltypevalname']) != 0 ):\n",
        "        #add data\n",
        "        for i in range(len(row['nursingchartcelltypevalname'])):\n",
        "          row[row['nursingchartcelltypevalname'][i]].append(row['nursingchartvalue'][i])\n",
        "      #celllabel\n",
        "      if(len(row['celllabel']) != 0 ):\n",
        "        #add data\n",
        "        for i in range(len(row['celllabel'])):\n",
        "          row[row['celllabel'][i]].append(row['cellattributevalue'][i])\n",
        "\n",
        "  \n",
        "  #drop columns: cellattributevalue, celllabel, labmeasurenamesystem, labname, nursingchartcelltypevalname, nusrsingchartvalue, offset\n",
        "  df.drop(columns = ['cellattributevalue', 'celllabel', 'labmeasurenamesystem', 'labname', 'nursingchartcelltypevalname', 'nursingchartvalue', 'offset', 'labresult'], inplace = True)  \n",
        "\n",
        "  #clean capillary refill\n",
        "  df['Capillary Refill'] = df['Capillary Refill'].apply(fill_na_Capillary)\n",
        "\n",
        "  #clean the data ( get average measurements and clean age)\n",
        "  df['glucose'] = df['glucose'].apply(avg_val)\n",
        "  df['pH'] = df['pH'].apply(avg_val)\n",
        "  df['GCS Total'] = df['GCS Total'].apply(avg_val)\n",
        "  df['Heart Rate'] = df['Heart Rate'].apply(avg_val)\n",
        "  df['Invasive BP Diastolic'] = df['Invasive BP Diastolic'].apply(avg_val)\n",
        "  df['Invasive BP Mean'] = df['Invasive BP Mean'].apply(avg_val)\n",
        "  df['Invasive BP Systolic'] = df['Invasive BP Systolic'].apply(avg_val)\n",
        "  df['Non-Invasive BP Diastolic'] = df['Non-Invasive BP Diastolic'].apply(avg_val)\n",
        "  df['Non-Invasive BP Mean'] = df['Non-Invasive BP Mean'].apply(avg_val)\n",
        "  df['Non-Invasive BP Systolic'] = df['Non-Invasive BP Systolic'].apply(avg_val)\n",
        "  df['O2 Saturation'] = df['O2 Saturation'].apply(avg_val)\n",
        "  df['Respiratory Rate'] = df['Respiratory Rate'].apply(avg_val)\n",
        "  df['Capillary Refill'] = df['Capillary Refill'].apply(avg_val)\n",
        "\n",
        "  df['age'] = df['age'].apply(change_age)\n",
        "\n",
        "  #change non num measurement using one hot encode\n",
        "  gender_cols = pd.get_dummies(df['gender'], prefix='gender')\n",
        "  ethicity_cols = pd.get_dummies(df['ethnicity'], prefix='ethnicity')\n",
        "  capillary_cols = pd.get_dummies(df['Capillary Refill'], prefix='Capillary Refill')\n",
        "  # add back to orignal df\n",
        "  df = pd.concat([df, gender_cols, ethicity_cols, capillary_cols], axis=1)\n",
        "  #drop old columns: ethnicity, gender, Capillary Refill\n",
        "  df.drop(columns = ['ethnicity', 'gender','Capillary Refill'], inplace = True)\n",
        "\n",
        "  #check if some cols exist then proceed\n",
        "  if 'ethnicity_Native American' not in df.columns:\n",
        "    df['ethnicity_Native American'] = 0.0\n",
        "  if 'ethnicity_Other/Unknown' not in df.columns:\n",
        "    df['ethnicity_Other/Unknown'] = 0.0\n",
        "  if 'Capillary Refill_< 2 seconds' not in df.columns:\n",
        "    df['Capillary Refill_< 2 seconds'] = 0.0\n",
        "  if 'Capillary Refill_< 2 seconds' not in df.columns:\n",
        "    df['Capillary Refill_> 2 seconds'] = 0.0\n",
        "  if 'Capillary Refill_feet' not in df.columns:\n",
        "    df['Capillary Refill_feet'] = 0.0\n",
        "  if 'Capillary Refill_hands' not in df.columns:\n",
        "    df['Capillary Refill_hands'] = 0.0\n",
        "  if 'Capillary Refill_normal' not in df.columns:\n",
        "    df['Capillary Refill_normal'] = 0.0\n",
        "  \n",
        "\n",
        "  #convert columns with str_ to str for model to read\n",
        "  df.columns = df.columns.astype(str) \n",
        "\n",
        "  df = df.fillna(0.0)\n",
        "\n",
        "  #Clean GCS\n",
        "  df['GCS Total'] = df['GCS Total'].apply(fix_GCS)\n",
        "\n",
        "  #change to float\n",
        "  # convert the data in 'col1' from uint8 to float\n",
        "  df['gender_Female'] = df['gender_Female'].astype('float')\n",
        "  df['gender_Male'] = df['gender_Male'].astype('float')\n",
        "  df['ethnicity_African American'] = df['ethnicity_African American'].astype('float')\n",
        "  df['ethnicity_Asian'] = df['ethnicity_Asian'].astype('float')\n",
        "  df['ethnicity_Caucasian'] = df['ethnicity_Caucasian'].astype('float')\n",
        "  df['ethnicity_Hispanic'] = df['ethnicity_Hispanic'].astype('float')\n",
        "  df['ethnicity_Native American'] = df['ethnicity_Native American'].astype('float')\n",
        "  df['ethnicity_Other/Unknown'] = df['ethnicity_Other/Unknown'].astype('float')\n",
        "  df['Capillary Refill_< 2 seconds'] = df['Capillary Refill_< 2 seconds'].astype('float')\n",
        "  df['Capillary Refill_> 2 seconds'] = df['Capillary Refill_> 2 seconds'].astype('float')\n",
        "  df['Capillary Refill_feet'] = df['Capillary Refill_feet'].astype('float')\n",
        "  df['Capillary Refill_hands'] = df['Capillary Refill_hands'].astype('float')\n",
        "  df['Capillary Refill_normal'] = df['Capillary Refill_normal'].astype('float')\n",
        "  df['age'] = df['age'].astype('float')\n",
        "  df['GCS Total'] = df['GCS Total'].astype('float')\n",
        "\n",
        "  #don't be racist\n",
        "  df.drop(columns = ['ethnicity_African American', 'ethnicity_Asian', 'ethnicity_Caucasian', 'ethnicity_Hispanic', 'ethnicity_Native American', 'ethnicity_Other/Unknown'], inplace = True) \n",
        "\n",
        "  df.drop(columns = ['gender_Female','gender_Male'], inplace=True)\n",
        "\n",
        "  data = df\n",
        "\n",
        "  return data"
      ]
    },
    {
      "attachments": {},
      "cell_type": "markdown",
      "metadata": {
        "id": "tUjA0i5Cd990"
      },
      "source": [
        "# MODELING\n"
      ]
    },
    {
      "cell_type": "code",
      "execution_count": 79,
      "metadata": {
        "id": "XSYpfNcDeCly"
      },
      "outputs": [],
      "source": [
        "from sklearn.model_selection import train_test_split\n",
        "from sklearn.metrics import accuracy_score\n",
        "from sklearn.metrics import roc_auc_score\n",
        "from sklearn.model_selection import GridSearchCV\n",
        "from sklearn.ensemble import AdaBoostClassifier\n",
        "from sklearn.ensemble import GradientBoostingClassifier\n",
        "\n",
        "from sklearn.model_selection import cross_val_score, KFold\n",
        "from sklearn.neural_network import MLPClassifier\n",
        "\n",
        "from sklearn.pipeline import Pipeline\n",
        "from sklearn.svm import SVC\n",
        "from sklearn.preprocessing import StandardScaler"
      ]
    },
    {
      "cell_type": "code",
      "execution_count": 80,
      "metadata": {
        "colab": {
          "base_uri": "https://localhost:8080/"
        },
        "id": "g7juvwOaeFaO",
        "outputId": "96966491-fd06-475f-8e6f-21b8b611a88f"
      },
      "outputs": [
        {
          "name": "stderr",
          "output_type": "stream",
          "text": [
            "/Users/minhdaonguyen/opt/anaconda3/lib/python3.8/site-packages/IPython/core/interactiveshell.py:3357: DtypeWarning: Columns (3,4,5,6,7,8,9,11,12) have mixed types.Specify dtype option on import or set low_memory=False.\n",
            "  if (await self.run_code(code, result,  async_=asy)):\n"
          ]
        }
      ],
      "source": [
        "#test the model\n",
        "x_train_path = 'train_x.csv'\n",
        "df_train = load_data(x_train_path)\n",
        "X = preprocess_x(df_train)\n",
        "\n",
        "y = pd.read_csv('train_y.csv', index_col=1)\n",
        "y = y.iloc[: , 1:]\n",
        "\n",
        "#combine x and y based on id\n",
        "df_model = pd.merge(X, y, left_index=True, right_index=True)\n",
        "\n",
        "X = df_model.iloc[: , : df_model.shape[1]-1]\n",
        "y = df_model.iloc[:,df_model.shape[1]-1]\n"
      ]
    },
    {
      "cell_type": "code",
      "execution_count": 81,
      "metadata": {},
      "outputs": [
        {
          "name": "stderr",
          "output_type": "stream",
          "text": [
            "/Users/minhdaonguyen/opt/anaconda3/lib/python3.8/site-packages/IPython/core/interactiveshell.py:3357: DtypeWarning: Columns (3,4,5,6,7,8,9,12) have mixed types.Specify dtype option on import or set low_memory=False.\n",
            "  if (await self.run_code(code, result,  async_=asy)):\n"
          ]
        }
      ],
      "source": [
        "#################\n",
        "#submission data\n",
        "#################\n",
        "x_test_path = 'test_x.csv'\n",
        "df_test = load_data(x_test_path)\n",
        "X_test_sub = preprocess_x(df_test)\n",
        "\n",
        "#get the columns to be same order\n",
        "cols = list(X.columns)\n",
        "X_test_sub = X_test_sub.reindex(columns = cols)\n",
        "X_sub_copy = X_test_sub"
      ]
    },
    {
      "cell_type": "code",
      "execution_count": 82,
      "metadata": {},
      "outputs": [],
      "source": [
        "#standardize\n",
        "scaler = StandardScaler()\n",
        "# Fit the scaler to the data\n",
        "scaler.fit(X)\n",
        "# Transform the training and testing data\n",
        "X = scaler.transform(X)\n",
        "X_train, X_test, y_train, y_test = train_test_split(X, y, test_size=0.2, random_state=42)\n",
        "# Fit the scaler to the data\n",
        "scaler.fit(X_test_sub)\n",
        "# Transform the training and testing data\n",
        "X_test_sub = scaler.transform(X_test_sub)\n"
      ]
    },
    {
      "cell_type": "code",
      "execution_count": 83,
      "metadata": {
        "colab": {
          "base_uri": "https://localhost:8080/",
          "height": 1000
        },
        "id": "ePYyoQ89uPs5",
        "outputId": "35a2ad8a-b4c9-4cb3-9106-d6428fbaf08b"
      },
      "outputs": [
        {
          "data": {
            "text/plain": [
              "GridSearchCV(cv=5, estimator=AdaBoostClassifier(),\n",
              "             param_grid={'algorithm': ['SAMME', 'SAMME.R'],\n",
              "                         'learning_rate': [0.1, 0.2, 0.3, 0.4, 0.5, 0.6, 0.7,\n",
              "                                           0.8, 0.9, 1],\n",
              "                         'n_estimators': [50, 100, 200, 300, 400, 500, 1000]})"
            ]
          },
          "execution_count": 83,
          "metadata": {},
          "output_type": "execute_result"
        }
      ],
      "source": [
        "ada = AdaBoostClassifier()\n",
        "\n",
        "#Hypertunining\n",
        "param_grid = {'n_estimators': [50, 100, 200, 300, 400, 500, 1000],\n",
        "              'learning_rate': [ 0.1, 0.2, 0.3, 0.4, 0.5, 0.6, 0.7, 0.8, 0.9, 1],\n",
        "              'algorithm': ['SAMME', 'SAMME.R']}\n",
        "\n",
        "#train with grid search\n",
        "grid = GridSearchCV(ada, param_grid, cv=5)\n",
        "grid.fit(X_train, y_train)"
      ]
    },
    {
      "cell_type": "code",
      "execution_count": 84,
      "metadata": {},
      "outputs": [
        {
          "data": {
            "text/plain": [
              "{'algorithm': 'SAMME', 'learning_rate': 0.6, 'n_estimators': 500}"
            ]
          },
          "execution_count": 84,
          "metadata": {},
          "output_type": "execute_result"
        }
      ],
      "source": [
        "grid.best_params_"
      ]
    },
    {
      "cell_type": "code",
      "execution_count": 85,
      "metadata": {
        "colab": {
          "base_uri": "https://localhost:8080/"
        },
        "id": "g1UtzsxYuYJL",
        "outputId": "79befbf3-667e-46b3-b75d-ec913f5e47cf"
      },
      "outputs": [
        {
          "name": "stdout",
          "output_type": "stream",
          "text": [
            "0.884065934065934\n"
          ]
        }
      ],
      "source": [
        "y_pred = grid.predict_proba(X_test)[:,1]\n",
        "rocauc = roc_auc_score(y_test, y_pred)\n",
        "print(rocauc)"
      ]
    },
    {
      "cell_type": "code",
      "execution_count": 86,
      "metadata": {},
      "outputs": [
        {
          "name": "stdout",
          "output_type": "stream",
          "text": [
            "     patientunitstayid  hospitaldischargestatus\n",
            "0               151179                 0.496186\n",
            "1               151900                 0.455332\n",
            "2               152954                 0.454302\n",
            "3               158056                 0.421472\n",
            "4               159411                 0.426532\n",
            "..                 ...                      ...\n",
            "499            3343295                 0.430637\n",
            "500            3344944                 0.453348\n",
            "501            3347502                 0.476903\n",
            "502            3348293                 0.419819\n",
            "503            3352230                 0.428027\n",
            "\n",
            "[504 rows x 2 columns]\n"
          ]
        }
      ],
      "source": [
        "y_pred_test = grid.predict_proba(X_test_sub)[:,1]\n",
        "X_sub_copy['hospitaldischargestatus'] = y_pred_test\n",
        "X_sub_copy = X_sub_copy.reset_index().rename(columns={'index': 'indexpatientunitstayid_col'})\n",
        "output = pd.concat([X_sub_copy['patientunitstayid'], X_sub_copy['hospitaldischargestatus']], axis=1)\n",
        "output[\"patientunitstayid\"] = output[\"patientunitstayid\"].astype(int)\n",
        "print(output)"
      ]
    },
    {
      "attachments": {},
      "cell_type": "markdown",
      "metadata": {
        "id": "5KxaPZ1QueV1"
      },
      "source": []
    },
    {
      "cell_type": "code",
      "execution_count": 87,
      "metadata": {
        "id": "d37oQk2Oeecw"
      },
      "outputs": [],
      "source": [
        "output.to_csv('output.csv', index = False)"
      ]
    }
  ],
  "metadata": {
    "colab": {
      "gpuType": "T4",
      "provenance": []
    },
    "gpuClass": "standard",
    "kernelspec": {
      "display_name": "Python 3",
      "name": "python3"
    },
    "language_info": {
      "codemirror_mode": {
        "name": "ipython",
        "version": 3
      },
      "file_extension": ".py",
      "mimetype": "text/x-python",
      "name": "python",
      "nbconvert_exporter": "python",
      "pygments_lexer": "ipython3",
      "version": "3.8.8"
    }
  },
  "nbformat": 4,
  "nbformat_minor": 0
}
